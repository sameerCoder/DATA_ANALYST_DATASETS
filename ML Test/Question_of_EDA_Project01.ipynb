{
  "nbformat": 4,
  "nbformat_minor": 0,
  "metadata": {
    "colab": {
      "name": "Question_of_EDA_Project01.ipynb",
      "provenance": []
    },
    "kernelspec": {
      "name": "python3",
      "display_name": "Python 3"
    },
    "language_info": {
      "name": "python"
    }
  },
  "cells": [
    {
      "cell_type": "code",
      "source": [
        "'''\n",
        "This Model will help us to find out wheather we sud provide loan or not.\n",
        "\n",
        "'''"
      ],
      "metadata": {
        "id": "ed57pYGTN7ug"
      },
      "execution_count": null,
      "outputs": []
    },
    {
      "cell_type": "code",
      "execution_count": null,
      "metadata": {
        "id": "WG98prk0JEnr"
      },
      "outputs": [],
      "source": [
        "# Data analysis Project.\n",
        "# Step1- Read the Loan Prediction Dataset.csv\n",
        "# https://github.com/sameerCoder/DATA_ANALYST_DATASETS/blob/main/Loan%20Prediction%20Dataset.csv"
      ]
    },
    {
      "cell_type": "code",
      "source": [
        "# Write code to print the first 10 rows of data."
      ],
      "metadata": {
        "id": "tzISKKrIJw70"
      },
      "execution_count": null,
      "outputs": []
    },
    {
      "cell_type": "code",
      "source": [
        "# Write code to print count, mean, std, 25% , 50%, 75% and max"
      ],
      "metadata": {
        "id": "RkhuqzeWJ1rd"
      },
      "execution_count": null,
      "outputs": []
    },
    {
      "cell_type": "code",
      "source": [
        "# Print all the columns name with there datatype."
      ],
      "metadata": {
        "id": "da5Nn8osKQTB"
      },
      "execution_count": null,
      "outputs": []
    },
    {
      "cell_type": "code",
      "source": [
        "# PreProcessing The Data"
      ],
      "metadata": {
        "id": "U6e6jm2MKWAT"
      },
      "execution_count": null,
      "outputs": []
    },
    {
      "cell_type": "code",
      "source": [
        "# print all columns and number of rows having nan value."
      ],
      "metadata": {
        "id": "QZq8GhHTKb9x"
      },
      "execution_count": null,
      "outputs": []
    },
    {
      "cell_type": "code",
      "source": [
        "# create a new column name - NEWCOL1 having data copy of first column of dataset file."
      ],
      "metadata": {
        "id": "xfMuKnXqKkS7"
      },
      "execution_count": null,
      "outputs": []
    },
    {
      "cell_type": "code",
      "source": [
        "# IN NEWCOL1 replace the row number 10 to 50 with nan value."
      ],
      "metadata": {
        "id": "5PT41D39MTQU"
      },
      "execution_count": null,
      "outputs": []
    },
    {
      "cell_type": "code",
      "source": [
        "# Fill the nan value of numerical column with there mean."
      ],
      "metadata": {
        "id": "SXJhYuUvMlwV"
      },
      "execution_count": null,
      "outputs": []
    },
    {
      "cell_type": "code",
      "source": [
        "# Fill the nan value of non-numerical column with string \"DATA MISSING\" OR MODE."
      ],
      "metadata": {
        "id": "QPw2GNN7MqAv"
      },
      "execution_count": null,
      "outputs": []
    },
    {
      "cell_type": "code",
      "source": [
        "# Check all nan values has been removed or not "
      ],
      "metadata": {
        "id": "s_ynolAgMzC9"
      },
      "execution_count": null,
      "outputs": []
    },
    {
      "cell_type": "code",
      "source": [
        "# DATA Visulization"
      ],
      "metadata": {
        "id": "QsUbQd_sNQXm"
      },
      "execution_count": null,
      "outputs": []
    },
    {
      "cell_type": "code",
      "source": [
        "# plot countplot of Gender column"
      ],
      "metadata": {
        "id": "aAhqaC8xNTUH"
      },
      "execution_count": null,
      "outputs": []
    },
    {
      "cell_type": "code",
      "source": [
        "# plot - do countplot of Married column"
      ],
      "metadata": {
        "id": "v-thSDKnNaA_"
      },
      "execution_count": null,
      "outputs": []
    },
    {
      "cell_type": "code",
      "source": [
        "# plot - do countplot of Dependent column"
      ],
      "metadata": {
        "id": "Sr6VWB_LNdgW"
      },
      "execution_count": null,
      "outputs": []
    },
    {
      "cell_type": "code",
      "source": [
        "# plot - do countplot of Education column"
      ],
      "metadata": {
        "id": "R2s3Zi0YNj31"
      },
      "execution_count": null,
      "outputs": []
    },
    {
      "cell_type": "code",
      "source": [
        "# plot - do countplot of selfemployed column"
      ],
      "metadata": {
        "id": "3XaqtPUiNmSr"
      },
      "execution_count": null,
      "outputs": []
    },
    {
      "cell_type": "code",
      "source": [
        "# plot - do countplot of Loanstatus column"
      ],
      "metadata": {
        "id": "mcfjywUuNrY7"
      },
      "execution_count": null,
      "outputs": []
    },
    {
      "cell_type": "code",
      "source": [
        "# plot - do distplot of ApplicantIncome column"
      ],
      "metadata": {
        "id": "9QQcGYA8NyfK"
      },
      "execution_count": null,
      "outputs": []
    },
    {
      "cell_type": "markdown",
      "source": [
        ""
      ],
      "metadata": {
        "id": "cdK7jNRLN6qa"
      }
    }
  ]
}