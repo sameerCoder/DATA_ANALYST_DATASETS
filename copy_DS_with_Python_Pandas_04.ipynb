{
  "nbformat": 4,
  "nbformat_minor": 0,
  "metadata": {
    "colab": {
      "name": "DS_with_Python_Pandas_04.ipynb",
      "provenance": [],
      "collapsed_sections": [],
      "authorship_tag": "ABX9TyPiA6J8WPqWp4rDujDsdx5e",
      "include_colab_link": true
    },
    "kernelspec": {
      "name": "python3",
      "display_name": "Python 3"
    },
    "language_info": {
      "name": "python"
    }
  },
  "cells": [
    {
      "cell_type": "markdown",
      "metadata": {
        "id": "view-in-github",
        "colab_type": "text"
      },
      "source": [
        "<a href=\"https://colab.research.google.com/github/sameerCoder/DATA_ANALYST_DATASETS/blob/main/copy_DS_with_Python_Pandas_04.ipynb\" target=\"_parent\"><img src=\"https://colab.research.google.com/assets/colab-badge.svg\" alt=\"Open In Colab\"/></a>"
      ]
    },
    {
      "cell_type": "code",
      "metadata": {
        "id": "qMiAZbqC128K"
      },
      "source": [
        ""
      ],
      "execution_count": null,
      "outputs": []
    },
    {
      "cell_type": "code",
      "metadata": {
        "colab": {
          "base_uri": "https://localhost:8080/"
        },
        "id": "rAd2E1IZQB1m",
        "outputId": "7c183a46-8089-4335-a696-9f3c61ad28c1"
      },
      "source": [
        "print([i for i in range(100,500,50)])\n",
        "print(chr(65))"
      ],
      "execution_count": null,
      "outputs": [
        {
          "output_type": "stream",
          "text": [
            "[100, 150, 200, 250, 300, 350, 400, 450]\n",
            "A\n",
            "[100, 150, 200, 250, 300, 350, 400, 450]\n",
            "A\n"
          ],
          "name": "stdout"
        }
      ]
    },
    {
      "cell_type": "code",
      "metadata": {
        "colab": {
          "base_uri": "https://localhost:8080/"
        },
        "id": "P6UJ5K-zPUw6",
        "outputId": "ad83976c-5e27-4c40-dea4-0113050853bf"
      },
      "source": [
        "#create 1 d series\n",
        "\n",
        "import pandas as pd\n",
        "s1=pd.Series(data=[i for i in range(100,510,50)], index=[chr(i) for i in range(65,65+9)])\n",
        "print(s1)"
      ],
      "execution_count": null,
      "outputs": [
        {
          "output_type": "stream",
          "text": [
            "A    100\n",
            "B    150\n",
            "C    200\n",
            "D    250\n",
            "E    300\n",
            "F    350\n",
            "G    400\n",
            "H    450\n",
            "I    500\n",
            "dtype: int64\n"
          ],
          "name": "stdout"
        }
      ]
    },
    {
      "cell_type": "code",
      "metadata": {
        "colab": {
          "base_uri": "https://localhost:8080/"
        },
        "id": "i_-4VuEvPvqU",
        "outputId": "161c8ac5-f258-4388-9112-73c236d51984"
      },
      "source": [
        "print(s1.index)"
      ],
      "execution_count": null,
      "outputs": [
        {
          "output_type": "stream",
          "text": [
            "Index(['A', 'B', 'C', 'D', 'E', 'F', 'G', 'H', 'I'], dtype='object')\n"
          ],
          "name": "stdout"
        }
      ]
    },
    {
      "cell_type": "code",
      "metadata": {
        "colab": {
          "base_uri": "https://localhost:8080/"
        },
        "id": "uU_S1v2GQxZ8",
        "outputId": "831596f3-eb29-44ad-9ef7-a88ebf80296f"
      },
      "source": [
        "#selecting col\n",
        "print(s1['B'])\n",
        "print(s1.loc['B'])"
      ],
      "execution_count": null,
      "outputs": [
        {
          "output_type": "stream",
          "text": [
            "150\n",
            "150\n"
          ],
          "name": "stdout"
        }
      ]
    },
    {
      "cell_type": "code",
      "metadata": {
        "colab": {
          "base_uri": "https://localhost:8080/"
        },
        "id": "i3DzEpRFQ1i1",
        "outputId": "95311ccb-1cb8-4cef-ca6f-29251e121ba8"
      },
      "source": [
        "#select multicols\n",
        "\n",
        "print(s1[['B','C','D']])\n",
        "print(\"*\"*25)\n",
        "print(s1.loc[['B','C','D']])"
      ],
      "execution_count": null,
      "outputs": [
        {
          "output_type": "stream",
          "text": [
            "B    150\n",
            "C    200\n",
            "D    250\n",
            "dtype: int64\n",
            "*************************\n",
            "B    150\n",
            "C    200\n",
            "D    250\n",
            "dtype: int64\n"
          ],
          "name": "stdout"
        }
      ]
    },
    {
      "cell_type": "code",
      "metadata": {
        "colab": {
          "base_uri": "https://localhost:8080/"
        },
        "id": "lVEVonDxRXmw",
        "outputId": "ed932f23-145d-47b7-9c48-bfd27f899d50"
      },
      "source": [
        "#selecting rows with INDEX NUMBER.\n",
        "print(s1)\n",
        "print()\n",
        "print(\"s1['A']:\",s1['A'])\n",
        "print(\"s1.iloc[2]:\",s1.iloc[2])\n",
        "print(\"s1.iloc[[1,2,3,7]]:\",s1.iloc[[1,2,3,7]])"
      ],
      "execution_count": null,
      "outputs": [
        {
          "output_type": "stream",
          "text": [
            "A    100\n",
            "B    150\n",
            "C    200\n",
            "D    250\n",
            "E    300\n",
            "F    350\n",
            "G    400\n",
            "H    450\n",
            "I    500\n",
            "dtype: int64\n",
            "\n",
            "s1['A']: 100\n",
            "s1.iloc[2]: 200\n",
            "s1.iloc[[1,2,3,7]]: B    150\n",
            "C    200\n",
            "D    250\n",
            "H    450\n",
            "dtype: int64\n"
          ],
          "name": "stdout"
        }
      ]
    },
    {
      "cell_type": "code",
      "metadata": {
        "colab": {
          "base_uri": "https://localhost:8080/"
        },
        "id": "a27FLya2ElBn",
        "outputId": "81603279-6742-4989-f373-3f7a80354ee9"
      },
      "source": [
        "'B' in s1"
      ],
      "execution_count": null,
      "outputs": [
        {
          "output_type": "execute_result",
          "data": {
            "text/plain": [
              "True"
            ]
          },
          "metadata": {
            "tags": []
          },
          "execution_count": 9
        }
      ]
    },
    {
      "cell_type": "code",
      "metadata": {
        "colab": {
          "base_uri": "https://localhost:8080/"
        },
        "id": "MS5buGzeGu_S",
        "outputId": "1763ae3c-93e4-4db7-edaa-2930653fdad6"
      },
      "source": [
        "100 in s1\n",
        "#match only the index value."
      ],
      "execution_count": null,
      "outputs": [
        {
          "output_type": "execute_result",
          "data": {
            "text/plain": [
              "False"
            ]
          },
          "metadata": {
            "tags": []
          },
          "execution_count": 10
        }
      ]
    },
    {
      "cell_type": "code",
      "metadata": {
        "colab": {
          "base_uri": "https://localhost:8080/"
        },
        "id": "zJ5owYplGzZU",
        "outputId": "53312c36-ab28-499b-eb62-3fbdc2798ca9"
      },
      "source": [
        "print(s1*2)"
      ],
      "execution_count": null,
      "outputs": [
        {
          "output_type": "stream",
          "text": [
            "A     200\n",
            "B     300\n",
            "C     400\n",
            "D     500\n",
            "E     600\n",
            "F     700\n",
            "G     800\n",
            "H     900\n",
            "I    1000\n",
            "dtype: int64\n"
          ],
          "name": "stdout"
        }
      ]
    },
    {
      "cell_type": "code",
      "metadata": {
        "colab": {
          "base_uri": "https://localhost:8080/"
        },
        "id": "r4hO-Og_G4TG",
        "outputId": "e6b0444d-c09a-43eb-cf9d-73df3491e263"
      },
      "source": [
        "print(s1**2)"
      ],
      "execution_count": null,
      "outputs": [
        {
          "output_type": "stream",
          "text": [
            "A     10000\n",
            "B     22500\n",
            "C     40000\n",
            "D     62500\n",
            "E     90000\n",
            "F    122500\n",
            "G    160000\n",
            "H    202500\n",
            "I    250000\n",
            "dtype: int64\n"
          ],
          "name": "stdout"
        }
      ]
    },
    {
      "cell_type": "code",
      "metadata": {
        "colab": {
          "base_uri": "https://localhost:8080/"
        },
        "id": "DC90chsKG54X",
        "outputId": "69f18fe5-de52-4548-cf35-45eac45045c9"
      },
      "source": [
        "s2mix_dtype=pd.Series(data=[1,2,3,\"hi\",\"hello\",\"msatutorpy@gmail.com\"],index=[i for i in range(100,100+6)])\n",
        "print(s2mix_dtype)"
      ],
      "execution_count": null,
      "outputs": [
        {
          "output_type": "stream",
          "text": [
            "100                       1\n",
            "101                       2\n",
            "102                       3\n",
            "103                      hi\n",
            "104                   hello\n",
            "105    msatutorpy@gmail.com\n",
            "dtype: object\n"
          ],
          "name": "stdout"
        }
      ]
    },
    {
      "cell_type": "code",
      "metadata": {
        "id": "15UKn4HWHaPH",
        "colab": {
          "base_uri": "https://localhost:8080/"
        },
        "outputId": "039daf91-7b7e-42f1-8d6a-8228cb4c46d8"
      },
      "source": [
        "#??????????????????????????\n",
        "print(s2mix_dtype*2)"
      ],
      "execution_count": null,
      "outputs": [
        {
          "output_type": "stream",
          "text": [
            "100                                           2\n",
            "101                                           4\n",
            "102                                           6\n",
            "103                                        hihi\n",
            "104                                  hellohello\n",
            "105    msatutorpy@gmail.commsatutorpy@gmail.com\n",
            "dtype: object\n"
          ],
          "name": "stdout"
        }
      ]
    },
    {
      "cell_type": "code",
      "metadata": {
        "id": "yv3zclhMKEWN"
      },
      "source": [
        ""
      ],
      "execution_count": null,
      "outputs": []
    },
    {
      "cell_type": "code",
      "metadata": {
        "id": "GKqjdsOgKEZr"
      },
      "source": [
        ""
      ],
      "execution_count": null,
      "outputs": []
    },
    {
      "cell_type": "code",
      "metadata": {
        "colab": {
          "base_uri": "https://localhost:8080/"
        },
        "id": "WeHGU2qCKEzT",
        "outputId": "35dab81a-5756-43d5-e81e-d623aef9e72c"
      },
      "source": [
        "print(s2mix_dtype.iloc[[0,1,2]]*2)"
      ],
      "execution_count": null,
      "outputs": [
        {
          "output_type": "stream",
          "text": [
            "100    2\n",
            "101    4\n",
            "102    6\n",
            "dtype: object\n"
          ],
          "name": "stdout"
        }
      ]
    },
    {
      "cell_type": "code",
      "metadata": {
        "colab": {
          "base_uri": "https://localhost:8080/"
        },
        "id": "LsHMAkHIKMVN",
        "outputId": "72f86970-b04b-442e-fea9-663b5544e404"
      },
      "source": [
        "#creating DataFrame \n",
        "import pandas as pd\n",
        "datadict={'one':[i for i in range(20,30)],\n",
        "          'two':[i for i in range(30,40)],\n",
        "           'three':[i for i in range(40,50)]}\n",
        "\n",
        "df1=pd.DataFrame(data=datadict)\n",
        "print(df1)"
      ],
      "execution_count": null,
      "outputs": [
        {
          "output_type": "stream",
          "name": "stdout",
          "text": [
            "   one  two  three\n",
            "0   20   30     40\n",
            "1   21   31     41\n",
            "2   22   32     42\n",
            "3   23   33     43\n",
            "4   24   34     44\n",
            "5   25   35     45\n",
            "6   26   36     46\n",
            "7   27   37     47\n",
            "8   28   38     48\n",
            "9   29   39     49\n"
          ]
        }
      ]
    },
    {
      "cell_type": "code",
      "metadata": {
        "colab": {
          "base_uri": "https://localhost:8080/"
        },
        "id": "6YjNI9Bbm5lH",
        "outputId": "93eadb54-62c6-45d6-8cf9-498f2f782607"
      },
      "source": [
        "print(df1['three'])"
      ],
      "execution_count": null,
      "outputs": [
        {
          "output_type": "stream",
          "name": "stdout",
          "text": [
            "0    40\n",
            "1    41\n",
            "2    42\n",
            "3    43\n",
            "4    44\n",
            "5    45\n",
            "6    46\n",
            "7    47\n",
            "8    48\n",
            "9    49\n",
            "Name: three, dtype: int64\n"
          ]
        }
      ]
    },
    {
      "cell_type": "code",
      "metadata": {
        "colab": {
          "base_uri": "https://localhost:8080/",
          "height": 359
        },
        "id": "3Nv_cleynD_S",
        "outputId": "d591c6fa-2033-45a8-9630-3060d7db7294"
      },
      "source": [
        "df1[['one','two']]"
      ],
      "execution_count": null,
      "outputs": [
        {
          "output_type": "execute_result",
          "data": {
            "text/html": [
              "<div>\n",
              "<style scoped>\n",
              "    .dataframe tbody tr th:only-of-type {\n",
              "        vertical-align: middle;\n",
              "    }\n",
              "\n",
              "    .dataframe tbody tr th {\n",
              "        vertical-align: top;\n",
              "    }\n",
              "\n",
              "    .dataframe thead th {\n",
              "        text-align: right;\n",
              "    }\n",
              "</style>\n",
              "<table border=\"1\" class=\"dataframe\">\n",
              "  <thead>\n",
              "    <tr style=\"text-align: right;\">\n",
              "      <th></th>\n",
              "      <th>one</th>\n",
              "      <th>two</th>\n",
              "    </tr>\n",
              "  </thead>\n",
              "  <tbody>\n",
              "    <tr>\n",
              "      <th>0</th>\n",
              "      <td>20</td>\n",
              "      <td>30</td>\n",
              "    </tr>\n",
              "    <tr>\n",
              "      <th>1</th>\n",
              "      <td>21</td>\n",
              "      <td>31</td>\n",
              "    </tr>\n",
              "    <tr>\n",
              "      <th>2</th>\n",
              "      <td>22</td>\n",
              "      <td>32</td>\n",
              "    </tr>\n",
              "    <tr>\n",
              "      <th>3</th>\n",
              "      <td>23</td>\n",
              "      <td>33</td>\n",
              "    </tr>\n",
              "    <tr>\n",
              "      <th>4</th>\n",
              "      <td>24</td>\n",
              "      <td>34</td>\n",
              "    </tr>\n",
              "    <tr>\n",
              "      <th>5</th>\n",
              "      <td>25</td>\n",
              "      <td>35</td>\n",
              "    </tr>\n",
              "    <tr>\n",
              "      <th>6</th>\n",
              "      <td>26</td>\n",
              "      <td>36</td>\n",
              "    </tr>\n",
              "    <tr>\n",
              "      <th>7</th>\n",
              "      <td>27</td>\n",
              "      <td>37</td>\n",
              "    </tr>\n",
              "    <tr>\n",
              "      <th>8</th>\n",
              "      <td>28</td>\n",
              "      <td>38</td>\n",
              "    </tr>\n",
              "    <tr>\n",
              "      <th>9</th>\n",
              "      <td>29</td>\n",
              "      <td>39</td>\n",
              "    </tr>\n",
              "  </tbody>\n",
              "</table>\n",
              "</div>"
            ],
            "text/plain": [
              "   one  two\n",
              "0   20   30\n",
              "1   21   31\n",
              "2   22   32\n",
              "3   23   33\n",
              "4   24   34\n",
              "5   25   35\n",
              "6   26   36\n",
              "7   27   37\n",
              "8   28   38\n",
              "9   29   39"
            ]
          },
          "metadata": {},
          "execution_count": 4
        }
      ]
    },
    {
      "cell_type": "code",
      "metadata": {
        "colab": {
          "base_uri": "https://localhost:8080/"
        },
        "id": "hzCVL1UQnI6F",
        "outputId": "b693df0e-1695-4977-b92f-f203333150b3"
      },
      "source": [
        "df1.loc[1]"
      ],
      "execution_count": null,
      "outputs": [
        {
          "output_type": "execute_result",
          "data": {
            "text/plain": [
              "one      21\n",
              "two      31\n",
              "three    41\n",
              "Name: 1, dtype: int64"
            ]
          },
          "metadata": {},
          "execution_count": 6
        }
      ]
    },
    {
      "cell_type": "code",
      "metadata": {
        "colab": {
          "base_uri": "https://localhost:8080/"
        },
        "id": "hSzsregqnP-Y",
        "outputId": "aaa5dd4e-61da-442c-cf3a-efa24fbcd97b"
      },
      "source": [
        "df1.iloc[1]"
      ],
      "execution_count": null,
      "outputs": [
        {
          "output_type": "execute_result",
          "data": {
            "text/plain": [
              "one      21\n",
              "two      31\n",
              "three    41\n",
              "Name: 1, dtype: int64"
            ]
          },
          "metadata": {},
          "execution_count": 7
        }
      ]
    },
    {
      "cell_type": "code",
      "metadata": {
        "colab": {
          "base_uri": "https://localhost:8080/"
        },
        "id": "nDMbvYI5qvzu",
        "outputId": "7e311ee5-ddb0-46ee-dcee-9dbf0dd17637"
      },
      "source": [
        "df2=pd.DataFrame(data=datadict,index=[\"row\"+str(i) for i in range(10)])\n",
        "print(df2)"
      ],
      "execution_count": null,
      "outputs": [
        {
          "output_type": "stream",
          "text": [
            "      one  two  three\n",
            "row0   20   30     40\n",
            "row1   21   31     41\n",
            "row2   22   32     42\n",
            "row3   23   33     43\n",
            "row4   24   34     44\n",
            "row5   25   35     45\n",
            "row6   26   36     46\n",
            "row7   27   37     47\n",
            "row8   28   38     48\n",
            "row9   29   39     49\n"
          ],
          "name": "stdout"
        }
      ]
    },
    {
      "cell_type": "code",
      "metadata": {
        "colab": {
          "base_uri": "https://localhost:8080/"
        },
        "id": "hemWaci9Kwd4",
        "outputId": "08bc761c-16af-4eb1-e156-a82c6c4294fa"
      },
      "source": [
        "print(df1.head(3))\n",
        "print(\"\")\n",
        "print(df1.tail(3))"
      ],
      "execution_count": null,
      "outputs": [
        {
          "output_type": "stream",
          "text": [
            "   one  two  three\n",
            "0   20   30     40\n",
            "1   21   31     41\n",
            "2   22   32     42\n",
            "\n",
            "   one  two  three\n",
            "7   27   37     47\n",
            "8   28   38     48\n",
            "9   29   39     49\n"
          ],
          "name": "stdout"
        }
      ]
    },
    {
      "cell_type": "code",
      "metadata": {
        "colab": {
          "base_uri": "https://localhost:8080/"
        },
        "id": "RDTdl2MKK1OK",
        "outputId": "8dd14dca-2439-4796-cd1c-aaf92777833b"
      },
      "source": [
        "print(df1.info())"
      ],
      "execution_count": null,
      "outputs": [
        {
          "output_type": "stream",
          "text": [
            "<class 'pandas.core.frame.DataFrame'>\n",
            "RangeIndex: 10 entries, 0 to 9\n",
            "Data columns (total 3 columns):\n",
            " #   Column  Non-Null Count  Dtype\n",
            "---  ------  --------------  -----\n",
            " 0   one     10 non-null     int64\n",
            " 1   two     10 non-null     int64\n",
            " 2   three   10 non-null     int64\n",
            "dtypes: int64(3)\n",
            "memory usage: 368.0 bytes\n",
            "None\n"
          ],
          "name": "stdout"
        }
      ]
    },
    {
      "cell_type": "code",
      "metadata": {
        "colab": {
          "base_uri": "https://localhost:8080/"
        },
        "id": "hJEYbB99K54k",
        "outputId": "1585f622-4532-4653-b198-5ea4a631db13"
      },
      "source": [
        "print(df1.describe())"
      ],
      "execution_count": null,
      "outputs": [
        {
          "output_type": "stream",
          "text": [
            "            one       two     three\n",
            "count  10.00000  10.00000  10.00000\n",
            "mean   24.50000  34.50000  44.50000\n",
            "std     3.02765   3.02765   3.02765\n",
            "min    20.00000  30.00000  40.00000\n",
            "25%    22.25000  32.25000  42.25000\n",
            "50%    24.50000  34.50000  44.50000\n",
            "75%    26.75000  36.75000  46.75000\n",
            "max    29.00000  39.00000  49.00000\n"
          ],
          "name": "stdout"
        }
      ]
    },
    {
      "cell_type": "code",
      "metadata": {
        "colab": {
          "base_uri": "https://localhost:8080/"
        },
        "id": "2jfNxcdyK9am",
        "outputId": "b0011982-098e-4802-d6ba-ec694724cacb"
      },
      "source": [
        "#colume fetching\n",
        "df1['one']"
      ],
      "execution_count": null,
      "outputs": [
        {
          "output_type": "execute_result",
          "data": {
            "text/plain": [
              "0    20\n",
              "1    21\n",
              "2    22\n",
              "3    23\n",
              "4    24\n",
              "5    25\n",
              "6    26\n",
              "7    27\n",
              "8    28\n",
              "9    29\n",
              "Name: one, dtype: int64"
            ]
          },
          "metadata": {
            "tags": []
          },
          "execution_count": 26
        }
      ]
    },
    {
      "cell_type": "code",
      "metadata": {
        "colab": {
          "base_uri": "https://localhost:8080/"
        },
        "id": "MGLO_kToN6dW",
        "outputId": "df603822-0600-4f9f-910b-e52cf5f0ecfd"
      },
      "source": [
        "#colume fetching\n",
        "df1.one#one column"
      ],
      "execution_count": null,
      "outputs": [
        {
          "output_type": "execute_result",
          "data": {
            "text/plain": [
              "0    20\n",
              "1    21\n",
              "2    22\n",
              "3    23\n",
              "4    24\n",
              "5    25\n",
              "6    26\n",
              "7    27\n",
              "8    28\n",
              "9    29\n",
              "Name: one, dtype: int64"
            ]
          },
          "metadata": {
            "tags": []
          },
          "execution_count": 48
        }
      ]
    },
    {
      "cell_type": "code",
      "metadata": {
        "colab": {
          "base_uri": "https://localhost:8080/",
          "height": 359
        },
        "id": "kfX40LlBLJL8",
        "outputId": "b421d111-c5e5-4e83-9a9f-2372701e57b0"
      },
      "source": [
        "#MUltiple colume fetching\n",
        "\n",
        "df1[['one',\n",
        "    'three']]"
      ],
      "execution_count": null,
      "outputs": [
        {
          "output_type": "execute_result",
          "data": {
            "text/html": [
              "<div>\n",
              "<style scoped>\n",
              "    .dataframe tbody tr th:only-of-type {\n",
              "        vertical-align: middle;\n",
              "    }\n",
              "\n",
              "    .dataframe tbody tr th {\n",
              "        vertical-align: top;\n",
              "    }\n",
              "\n",
              "    .dataframe thead th {\n",
              "        text-align: right;\n",
              "    }\n",
              "</style>\n",
              "<table border=\"1\" class=\"dataframe\">\n",
              "  <thead>\n",
              "    <tr style=\"text-align: right;\">\n",
              "      <th></th>\n",
              "      <th>one</th>\n",
              "      <th>three</th>\n",
              "    </tr>\n",
              "  </thead>\n",
              "  <tbody>\n",
              "    <tr>\n",
              "      <th>0</th>\n",
              "      <td>20</td>\n",
              "      <td>40</td>\n",
              "    </tr>\n",
              "    <tr>\n",
              "      <th>1</th>\n",
              "      <td>21</td>\n",
              "      <td>41</td>\n",
              "    </tr>\n",
              "    <tr>\n",
              "      <th>2</th>\n",
              "      <td>22</td>\n",
              "      <td>42</td>\n",
              "    </tr>\n",
              "    <tr>\n",
              "      <th>3</th>\n",
              "      <td>23</td>\n",
              "      <td>43</td>\n",
              "    </tr>\n",
              "    <tr>\n",
              "      <th>4</th>\n",
              "      <td>24</td>\n",
              "      <td>44</td>\n",
              "    </tr>\n",
              "    <tr>\n",
              "      <th>5</th>\n",
              "      <td>25</td>\n",
              "      <td>45</td>\n",
              "    </tr>\n",
              "    <tr>\n",
              "      <th>6</th>\n",
              "      <td>26</td>\n",
              "      <td>46</td>\n",
              "    </tr>\n",
              "    <tr>\n",
              "      <th>7</th>\n",
              "      <td>27</td>\n",
              "      <td>47</td>\n",
              "    </tr>\n",
              "    <tr>\n",
              "      <th>8</th>\n",
              "      <td>28</td>\n",
              "      <td>48</td>\n",
              "    </tr>\n",
              "    <tr>\n",
              "      <th>9</th>\n",
              "      <td>29</td>\n",
              "      <td>49</td>\n",
              "    </tr>\n",
              "  </tbody>\n",
              "</table>\n",
              "</div>"
            ],
            "text/plain": [
              "   one  three\n",
              "0   20     40\n",
              "1   21     41\n",
              "2   22     42\n",
              "3   23     43\n",
              "4   24     44\n",
              "5   25     45\n",
              "6   26     46\n",
              "7   27     47\n",
              "8   28     48\n",
              "9   29     49"
            ]
          },
          "metadata": {
            "tags": []
          },
          "execution_count": 29
        }
      ]
    },
    {
      "cell_type": "code",
      "metadata": {
        "colab": {
          "base_uri": "https://localhost:8080/"
        },
        "id": "DLRpy20rq_T5",
        "outputId": "afc829c7-6aa4-435e-94dc-bd80301502d3"
      },
      "source": [
        "df2.loc['row1']"
      ],
      "execution_count": null,
      "outputs": [
        {
          "output_type": "execute_result",
          "data": {
            "text/plain": [
              "one      21\n",
              "two      31\n",
              "three    41\n",
              "Name: row1, dtype: int64"
            ]
          },
          "metadata": {
            "tags": []
          },
          "execution_count": 4
        }
      ]
    },
    {
      "cell_type": "code",
      "metadata": {
        "colab": {
          "base_uri": "https://localhost:8080/",
          "height": 111
        },
        "id": "T1OGL82krEkK",
        "outputId": "9fb3d4c2-6298-4a4e-f84a-1108cb033d4a"
      },
      "source": [
        "df2.loc[['row1','row2']]"
      ],
      "execution_count": null,
      "outputs": [
        {
          "output_type": "execute_result",
          "data": {
            "text/html": [
              "<div>\n",
              "<style scoped>\n",
              "    .dataframe tbody tr th:only-of-type {\n",
              "        vertical-align: middle;\n",
              "    }\n",
              "\n",
              "    .dataframe tbody tr th {\n",
              "        vertical-align: top;\n",
              "    }\n",
              "\n",
              "    .dataframe thead th {\n",
              "        text-align: right;\n",
              "    }\n",
              "</style>\n",
              "<table border=\"1\" class=\"dataframe\">\n",
              "  <thead>\n",
              "    <tr style=\"text-align: right;\">\n",
              "      <th></th>\n",
              "      <th>one</th>\n",
              "      <th>two</th>\n",
              "      <th>three</th>\n",
              "    </tr>\n",
              "  </thead>\n",
              "  <tbody>\n",
              "    <tr>\n",
              "      <th>row1</th>\n",
              "      <td>21</td>\n",
              "      <td>31</td>\n",
              "      <td>41</td>\n",
              "    </tr>\n",
              "    <tr>\n",
              "      <th>row2</th>\n",
              "      <td>22</td>\n",
              "      <td>32</td>\n",
              "      <td>42</td>\n",
              "    </tr>\n",
              "  </tbody>\n",
              "</table>\n",
              "</div>"
            ],
            "text/plain": [
              "      one  two  three\n",
              "row1   21   31     41\n",
              "row2   22   32     42"
            ]
          },
          "metadata": {
            "tags": []
          },
          "execution_count": 5
        }
      ]
    },
    {
      "cell_type": "code",
      "metadata": {
        "colab": {
          "base_uri": "https://localhost:8080/",
          "height": 111
        },
        "id": "0yfiwYZarKBd",
        "outputId": "4e158073-7a10-4dbf-d5b9-9bf5f0b3b582"
      },
      "source": [
        "df2.iloc[[1,7]]"
      ],
      "execution_count": null,
      "outputs": [
        {
          "output_type": "execute_result",
          "data": {
            "text/html": [
              "<div>\n",
              "<style scoped>\n",
              "    .dataframe tbody tr th:only-of-type {\n",
              "        vertical-align: middle;\n",
              "    }\n",
              "\n",
              "    .dataframe tbody tr th {\n",
              "        vertical-align: top;\n",
              "    }\n",
              "\n",
              "    .dataframe thead th {\n",
              "        text-align: right;\n",
              "    }\n",
              "</style>\n",
              "<table border=\"1\" class=\"dataframe\">\n",
              "  <thead>\n",
              "    <tr style=\"text-align: right;\">\n",
              "      <th></th>\n",
              "      <th>one</th>\n",
              "      <th>two</th>\n",
              "      <th>three</th>\n",
              "    </tr>\n",
              "  </thead>\n",
              "  <tbody>\n",
              "    <tr>\n",
              "      <th>row1</th>\n",
              "      <td>21</td>\n",
              "      <td>31</td>\n",
              "      <td>41</td>\n",
              "    </tr>\n",
              "    <tr>\n",
              "      <th>row7</th>\n",
              "      <td>27</td>\n",
              "      <td>37</td>\n",
              "      <td>47</td>\n",
              "    </tr>\n",
              "  </tbody>\n",
              "</table>\n",
              "</div>"
            ],
            "text/plain": [
              "      one  two  three\n",
              "row1   21   31     41\n",
              "row7   27   37     47"
            ]
          },
          "metadata": {
            "tags": []
          },
          "execution_count": 6
        }
      ]
    },
    {
      "cell_type": "code",
      "metadata": {
        "colab": {
          "base_uri": "https://localhost:8080/",
          "height": 111
        },
        "id": "0YVImxbELL3l",
        "outputId": "92657fe5-b495-4065-f23b-f6d44c8c96d8"
      },
      "source": [
        "#Row fetching\n",
        "df1.iloc[[1,7]]"
      ],
      "execution_count": null,
      "outputs": [
        {
          "output_type": "execute_result",
          "data": {
            "text/html": [
              "<div>\n",
              "<style scoped>\n",
              "    .dataframe tbody tr th:only-of-type {\n",
              "        vertical-align: middle;\n",
              "    }\n",
              "\n",
              "    .dataframe tbody tr th {\n",
              "        vertical-align: top;\n",
              "    }\n",
              "\n",
              "    .dataframe thead th {\n",
              "        text-align: right;\n",
              "    }\n",
              "</style>\n",
              "<table border=\"1\" class=\"dataframe\">\n",
              "  <thead>\n",
              "    <tr style=\"text-align: right;\">\n",
              "      <th></th>\n",
              "      <th>one</th>\n",
              "      <th>two</th>\n",
              "      <th>three</th>\n",
              "    </tr>\n",
              "  </thead>\n",
              "  <tbody>\n",
              "    <tr>\n",
              "      <th>1</th>\n",
              "      <td>21</td>\n",
              "      <td>31</td>\n",
              "      <td>41</td>\n",
              "    </tr>\n",
              "    <tr>\n",
              "      <th>7</th>\n",
              "      <td>27</td>\n",
              "      <td>37</td>\n",
              "      <td>47</td>\n",
              "    </tr>\n",
              "  </tbody>\n",
              "</table>\n",
              "</div>"
            ],
            "text/plain": [
              "   one  two  three\n",
              "1   21   31     41\n",
              "7   27   37     47"
            ]
          },
          "metadata": {
            "tags": []
          },
          "execution_count": 30
        }
      ]
    },
    {
      "cell_type": "code",
      "metadata": {
        "id": "irHJihZtrD6P"
      },
      "source": [
        ""
      ],
      "execution_count": null,
      "outputs": []
    },
    {
      "cell_type": "code",
      "metadata": {
        "colab": {
          "base_uri": "https://localhost:8080/"
        },
        "id": "iScHLouJLUoZ",
        "outputId": "0d766c75-a897-48ec-cbf3-1af3c389e345"
      },
      "source": [
        "#new small subset dataframe.\n",
        "\n",
        "subsetdf1=df1[['one','three']]\n",
        "print(subsetdf1)"
      ],
      "execution_count": null,
      "outputs": [
        {
          "output_type": "stream",
          "text": [
            "   one  three\n",
            "0   20     40\n",
            "1   21     41\n",
            "2   22     42\n",
            "3   23     43\n",
            "4   24     44\n",
            "5   25     45\n",
            "6   26     46\n",
            "7   27     47\n",
            "8   28     48\n",
            "9   29     49\n"
          ],
          "name": "stdout"
        }
      ]
    },
    {
      "cell_type": "code",
      "metadata": {
        "colab": {
          "base_uri": "https://localhost:8080/"
        },
        "id": "ycezUlsRLcCe",
        "outputId": "b62f51da-f1b5-445e-fb6d-34e440d8faa0"
      },
      "source": [
        "copydf1=df1.copy()\n",
        "print(copydf1)"
      ],
      "execution_count": null,
      "outputs": [
        {
          "output_type": "stream",
          "text": [
            "   one  two  three\n",
            "0   20   30     40\n",
            "1   21   31     41\n",
            "2   22   32     42\n",
            "3   23   33     43\n",
            "4   24   34     44\n",
            "5   25   35     45\n",
            "6   26   36     46\n",
            "7   27   37     47\n",
            "8   28   38     48\n",
            "9   29   39     49\n"
          ],
          "name": "stdout"
        }
      ]
    },
    {
      "cell_type": "code",
      "metadata": {
        "colab": {
          "base_uri": "https://localhost:8080/"
        },
        "id": "r0eBCLPNrbSL",
        "outputId": "119d3475-450f-4648-8628-3dd36234c665"
      },
      "source": [
        "copydf1['newcolumn']=df1['three']+2\n",
        "print(copydf1)"
      ],
      "execution_count": null,
      "outputs": [
        {
          "output_type": "stream",
          "text": [
            "   one  two  three  newcolumn\n",
            "0   20   30     40         40\n",
            "1   21   31     41         41\n",
            "2   22   32     42         42\n",
            "3   23   33     43         43\n",
            "4   24   34     44         44\n",
            "5   25   35     45         45\n",
            "6   26   36     46         46\n",
            "7   27   37     47         47\n",
            "8   28   38     48         48\n",
            "9   29   39     49         49\n"
          ],
          "name": "stdout"
        }
      ]
    },
    {
      "cell_type": "code",
      "metadata": {
        "colab": {
          "base_uri": "https://localhost:8080/"
        },
        "id": "4yVaQjBjL-Il",
        "outputId": "f6992b11-9667-4eac-cb18-1a5011655c7a"
      },
      "source": [
        "import numpy as np\n",
        "#create new columns and insert nan value.\n",
        "copydf1['Newcol']=np.nan\n",
        "print(copydf1)"
      ],
      "execution_count": null,
      "outputs": [
        {
          "output_type": "stream",
          "text": [
            "   one  two  three  newcolumn  Newcol\n",
            "0   20   30     40         40     NaN\n",
            "1   21   31     41         41     NaN\n",
            "2   22   32     42         42     NaN\n",
            "3   23   33     43         43     NaN\n",
            "4   24   34     44         44     NaN\n",
            "5   25   35     45         45     NaN\n",
            "6   26   36     46         46     NaN\n",
            "7   27   37     47         47     NaN\n",
            "8   28   38     48         48     NaN\n",
            "9   29   39     49         49     NaN\n"
          ],
          "name": "stdout"
        }
      ]
    },
    {
      "cell_type": "code",
      "metadata": {
        "colab": {
          "base_uri": "https://localhost:8080/"
        },
        "id": "Ra6LSwHUMIne",
        "outputId": "c49c1a3b-6fd6-42f3-f6bb-8e2705bd414e"
      },
      "source": [
        "#whole one row\n",
        "copydf1.iloc[1]=55555\n",
        "print(copydf1)"
      ],
      "execution_count": null,
      "outputs": [
        {
          "output_type": "stream",
          "text": [
            "     one  newinsertcol    two  three  newcolumn   Newcol\n",
            "0     20           100     30     40         40      NaN\n",
            "1  55555         55555  55555  55555      55555  55555.0\n",
            "2     22           120     32     42         42      NaN\n",
            "3     23           130     33     43         43      NaN\n",
            "4     24           140     34     44         44      NaN\n",
            "5     25           150     35     45         45      NaN\n",
            "6     26           160     36     46         46      NaN\n",
            "7     27           170     37     47         47      NaN\n",
            "8     28           180     38     48         48      NaN\n",
            "9     29           190     39     49         49      NaN\n"
          ],
          "name": "stdout"
        }
      ]
    },
    {
      "cell_type": "code",
      "metadata": {
        "colab": {
          "base_uri": "https://localhost:8080/"
        },
        "id": "Fikj9ZoBsWTf",
        "outputId": "59522585-fd52-4835-8bfe-4c70b6afa38a"
      },
      "source": [
        "#PARTICULAR ROW PARTICULAR COLUMN\n",
        "#???????????????????????????????????????\n",
        "copydf1.iloc[2,3]=999\n",
        "print(copydf1)\n",
        "#print(copydf1.iloc[2,3]=9999,inplace=True)"
      ],
      "execution_count": null,
      "outputs": [
        {
          "output_type": "stream",
          "text": [
            "     one  newinsertcol    two  three  newcolumn   Newcol\n",
            "0     20           100     30     40         40      NaN\n",
            "1  55555         55555  55555  55555      55555  55555.0\n",
            "2     22           120     32    999         42      NaN\n",
            "3     23           130     33     43         43      NaN\n",
            "4     24           140     34     44         44      NaN\n",
            "5     25           150     35     45         45      NaN\n",
            "6     26           160     36     46         46      NaN\n",
            "7     27           170     37     47         47      NaN\n",
            "8     28           180     38     48         48      NaN\n",
            "9     29           190     39     49         49      NaN\n"
          ],
          "name": "stdout"
        }
      ]
    },
    {
      "cell_type": "code",
      "metadata": {
        "colab": {
          "base_uri": "https://localhost:8080/"
        },
        "id": "Dr8qRC7wssCg",
        "outputId": "73e360d8-b782-49ae-bcd4-cd423fbf7d58"
      },
      "source": [
        "#query\n",
        "copydfquery=copydf1['two']>160\n",
        "print(copydfquery)\n",
        "print(copydf1[copydfquery])\n",
        "print(copydf1[copydf1['two']>160])"
      ],
      "execution_count": null,
      "outputs": [
        {
          "output_type": "stream",
          "text": [
            "0    False\n",
            "1     True\n",
            "2    False\n",
            "3    False\n",
            "4    False\n",
            "5    False\n",
            "6    False\n",
            "7    False\n",
            "8    False\n",
            "9    False\n",
            "Name: two, dtype: bool\n",
            "     one  newinsertcol    two  three  newcolumn   Newcol\n",
            "1  55555         55555  55555  55555      55555  55555.0\n"
          ],
          "name": "stdout"
        }
      ]
    },
    {
      "cell_type": "code",
      "metadata": {
        "colab": {
          "base_uri": "https://localhost:8080/"
        },
        "id": "JUIAg-3yNLwX",
        "outputId": "d3a9755b-4427-4f10-bb5d-0756a7f12e38"
      },
      "source": [
        "print(df1.loc[1])\n",
        "print()\n",
        "print(df1['one'])"
      ],
      "execution_count": null,
      "outputs": [
        {
          "output_type": "stream",
          "text": [
            "one      21\n",
            "two      31\n",
            "three    41\n",
            "Name: 1, dtype: int64\n",
            "\n",
            "0    20\n",
            "1    21\n",
            "2    22\n",
            "3    23\n",
            "4    24\n",
            "5    25\n",
            "6    26\n",
            "7    27\n",
            "8    28\n",
            "9    29\n",
            "Name: one, dtype: int64\n"
          ],
          "name": "stdout"
        }
      ]
    },
    {
      "cell_type": "code",
      "metadata": {
        "colab": {
          "base_uri": "https://localhost:8080/"
        },
        "id": "Tc_9esvKNgc-",
        "outputId": "4fd854f6-7e20-4e6a-cf4c-ff1d933e5d67"
      },
      "source": [
        "#ADD ANY LOCATION I WILL ADD THE COLUMN.\n",
        "#df.insert(columnlocation,column_name,column_value)\n",
        "copydf1.insert(1,'newinsertcol',[i for i in range(100,200,10)])\n",
        "print(copydf1)"
      ],
      "execution_count": null,
      "outputs": [
        {
          "output_type": "stream",
          "text": [
            "   one  newinsertcol  two  three  newcolumn  Newcol\n",
            "0   20           100   30     40         40     NaN\n",
            "1   21           110   31     41         41     NaN\n",
            "2   22           120   32     42         42     NaN\n",
            "3   23           130   33     43         43     NaN\n",
            "4   24           140   34     44         44     NaN\n",
            "5   25           150   35     45         45     NaN\n",
            "6   26           160   36     46         46     NaN\n",
            "7   27           170   37     47         47     NaN\n",
            "8   28           180   38     48         48     NaN\n",
            "9   29           190   39     49         49     NaN\n"
          ],
          "name": "stdout"
        }
      ]
    },
    {
      "cell_type": "code",
      "metadata": {
        "colab": {
          "base_uri": "https://localhost:8080/"
        },
        "id": "RZkSNEtKW9yr",
        "outputId": "9e2c0a43-3e30-4473-e10f-5a5bac86b2fc"
      },
      "source": [
        "copydf1.insert(5,'copyofone',copydf1['one'])\n",
        "print(copydf1)"
      ],
      "execution_count": null,
      "outputs": [
        {
          "output_type": "stream",
          "text": [
            "     one  newinsertcol    two  three   Newcol  copyofone\n",
            "0     20           100     30     40      NaN         20\n",
            "1  55555           110  55555  55555  55555.0      55555\n",
            "2     22           120     32     42      NaN         22\n",
            "3     23           130    999     43      NaN         23\n",
            "4     24           140     34     44      NaN         24\n",
            "5     25           150     35     45      NaN         25\n",
            "6     26           160     36     46      NaN         26\n",
            "7     27           170     37     47      NaN         27\n",
            "8     28           180     38     48      NaN         28\n",
            "9     29           190     39     49      NaN         29\n"
          ],
          "name": "stdout"
        }
      ]
    },
    {
      "cell_type": "code",
      "metadata": {
        "colab": {
          "base_uri": "https://localhost:8080/"
        },
        "id": "nMeB_qUYPr9S",
        "outputId": "2010417e-28da-4f68-eab7-250b880032ed"
      },
      "source": [
        "#insert at particular cell/ particular row & col.\n",
        "copydf1.at[3,'two']=999\n",
        "print(copydf1)"
      ],
      "execution_count": null,
      "outputs": [
        {
          "output_type": "stream",
          "text": [
            "     one  newinsertcol    two  three   Newcol\n",
            "0     20           100     30     40      NaN\n",
            "1  55555           110  55555  55555  55555.0\n",
            "2     22           120     32     42      NaN\n",
            "3     23           130    999     43      NaN\n",
            "4     24           140     34     44      NaN\n",
            "5     25           150     35     45      NaN\n",
            "6     26           160     36     46      NaN\n",
            "7     27           170     37     47      NaN\n",
            "8     28           180     38     48      NaN\n",
            "9     29           190     39     49      NaN\n"
          ],
          "name": "stdout"
        }
      ]
    },
    {
      "cell_type": "code",
      "metadata": {
        "colab": {
          "base_uri": "https://localhost:8080/"
        },
        "id": "ZZ2xbIXSU5R4",
        "outputId": "b013d104-27d3-4aff-b65f-9d56c6b55668"
      },
      "source": [
        "print(copydf1.index)\n",
        "print(copydf1.columns)"
      ],
      "execution_count": null,
      "outputs": [
        {
          "output_type": "stream",
          "text": [
            "RangeIndex(start=0, stop=10, step=1)\n",
            "Index(['one', 'newinsertcol', 'two', 'three', 'Newcol'], dtype='object')\n"
          ],
          "name": "stdout"
        }
      ]
    },
    {
      "cell_type": "code",
      "metadata": {
        "colab": {
          "base_uri": "https://localhost:8080/"
        },
        "id": "EdGNpGrXVOAJ",
        "outputId": "f356b749-8bcc-4dd0-96ee-483f77979336"
      },
      "source": [
        "print(copydf1)"
      ],
      "execution_count": null,
      "outputs": [
        {
          "output_type": "stream",
          "text": [
            "     one  newinsertcol    two  three   Newcol\n",
            "0     20           100     30     40      NaN\n",
            "1  55555           110  55555  55555  55555.0\n",
            "2     22           120     32     42      NaN\n",
            "3     23           130    999     43      NaN\n",
            "4     24           140     34     44      NaN\n",
            "5     25           150     35     45      NaN\n",
            "6     26           160     36     46      NaN\n",
            "7     27           170     37     47      NaN\n",
            "8     28           180     38     48      NaN\n",
            "9     29           190     39     49      NaN\n"
          ],
          "name": "stdout"
        }
      ]
    },
    {
      "cell_type": "code",
      "metadata": {
        "colab": {
          "base_uri": "https://localhost:8080/"
        },
        "id": "t_NqrDDkVkNb",
        "outputId": "ad651600-8dc9-43f0-9c2f-24642a2b0fea"
      },
      "source": [
        "data1=[i for i in range(15,20)]\n",
        "data2=[i for i in range(20,25)]\n",
        "df3=pd.DataFrame(data=zip(data1,data2),columns=['A','B'])\n",
        "print(df3)"
      ],
      "execution_count": null,
      "outputs": [
        {
          "output_type": "stream",
          "text": [
            "    A   B\n",
            "0  15  20\n",
            "1  16  21\n",
            "2  17  22\n",
            "3  18  23\n",
            "4  19  24\n"
          ],
          "name": "stdout"
        }
      ]
    },
    {
      "cell_type": "code",
      "metadata": {
        "colab": {
          "base_uri": "https://localhost:8080/"
        },
        "id": "P4VVmglEWJzO",
        "outputId": "99e2731b-363c-4cd7-83f4-aca8d7158f91"
      },
      "source": [
        "df3['Cnew']=df3['A']+df3['B']\n",
        "print(df3)"
      ],
      "execution_count": null,
      "outputs": [
        {
          "output_type": "stream",
          "text": [
            "    A   B  Cnew\n",
            "0  15  20    35\n",
            "1  16  21    37\n",
            "2  17  22    39\n",
            "3  18  23    41\n",
            "4  19  24    43\n"
          ],
          "name": "stdout"
        }
      ]
    },
    {
      "cell_type": "code",
      "metadata": {
        "colab": {
          "base_uri": "https://localhost:8080/"
        },
        "id": "__97WmqrWarP",
        "outputId": "9911a69a-f41f-4192-f745-6fc1cc05df81"
      },
      "source": [
        "df3['flag']=df3['A']>17\n",
        "print(df3)"
      ],
      "execution_count": null,
      "outputs": [
        {
          "output_type": "stream",
          "text": [
            "    A   B  Cnew   flag\n",
            "0  15  20    35  False\n",
            "1  16  21    37  False\n",
            "2  17  22    39  False\n",
            "3  18  23    41   True\n",
            "4  19  24    43   True\n"
          ],
          "name": "stdout"
        }
      ]
    },
    {
      "cell_type": "code",
      "metadata": {
        "colab": {
          "base_uri": "https://localhost:8080/"
        },
        "id": "AkzvvB9cXP8L",
        "outputId": "7a5cf8c3-4a6a-4bcc-e091-0a5554f91b30"
      },
      "source": [
        "df3['half-value-ofA']=df3['A'][:3]\n",
        "print(df3)"
      ],
      "execution_count": null,
      "outputs": [
        {
          "output_type": "stream",
          "text": [
            "    A   B  half-value-ofA\n",
            "0  15  20            15.0\n",
            "1  16  21            16.0\n",
            "2  17  22            17.0\n",
            "3  18  23             NaN\n",
            "4  19  24             NaN\n"
          ],
          "name": "stdout"
        }
      ]
    },
    {
      "cell_type": "code",
      "metadata": {
        "colab": {
          "base_uri": "https://localhost:8080/"
        },
        "id": "39dSBzUXWntN",
        "outputId": "dd6bf398-07dc-4b19-eab9-0217014659f6"
      },
      "source": [
        "#delete\n",
        "df3.pop('Cnew')\n",
        "print(df3)"
      ],
      "execution_count": null,
      "outputs": [
        {
          "output_type": "stream",
          "text": [
            "    A   B   flag\n",
            "0  15  20  False\n",
            "1  16  21  False\n",
            "2  17  22  False\n",
            "3  18  23   True\n",
            "4  19  24   True\n"
          ],
          "name": "stdout"
        }
      ]
    },
    {
      "cell_type": "code",
      "metadata": {
        "colab": {
          "base_uri": "https://localhost:8080/"
        },
        "id": "jYrv2U_NWykR",
        "outputId": "7cdabd87-506f-446b-c230-5b6ff3ebc891"
      },
      "source": [
        "del df3['flag']\n",
        "print(df3)"
      ],
      "execution_count": null,
      "outputs": [
        {
          "output_type": "stream",
          "text": [
            "    A   B\n",
            "0  15  20\n",
            "1  16  21\n",
            "2  17  22\n",
            "3  18  23\n",
            "4  19  24\n"
          ],
          "name": "stdout"
        }
      ]
    },
    {
      "cell_type": "code",
      "metadata": {
        "id": "MTQm8HXXW4Aj"
      },
      "source": [
        "################################"
      ],
      "execution_count": null,
      "outputs": []
    }
  ]
}