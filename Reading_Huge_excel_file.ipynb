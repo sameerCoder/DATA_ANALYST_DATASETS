{
 "cells": [
  {
   "cell_type": "code",
   "execution_count": 12,
   "id": "35f8deca",
   "metadata": {},
   "outputs": [],
   "source": [
    "# \n",
    "filename=\"500000_Records_Data.xlsx\""
   ]
  },
  {
   "cell_type": "code",
   "execution_count": 17,
   "id": "dfc49120",
   "metadata": {},
   "outputs": [
    {
     "ename": "AttributeError",
     "evalue": "'NoneType' object has no attribute 'cell'",
     "output_type": "error",
     "traceback": [
      "\u001b[1;31m---------------------------------------------------------------------------\u001b[0m",
      "\u001b[1;31mAttributeError\u001b[0m                            Traceback (most recent call last)",
      "\u001b[1;32m<ipython-input-17-4e9c5de2d396>\u001b[0m in \u001b[0;36m<module>\u001b[1;34m\u001b[0m\n\u001b[0;32m      3\u001b[0m \u001b[1;33m\u001b[0m\u001b[0m\n\u001b[0;32m      4\u001b[0m \u001b[0msheet_obj\u001b[0m\u001b[1;33m=\u001b[0m\u001b[0mwb\u001b[0m\u001b[1;33m.\u001b[0m\u001b[0mactive\u001b[0m\u001b[1;33m\u001b[0m\u001b[1;33m\u001b[0m\u001b[0m\n\u001b[1;32m----> 5\u001b[1;33m \u001b[0mcell_obj\u001b[0m \u001b[1;33m=\u001b[0m \u001b[0msheet_obj\u001b[0m\u001b[1;33m.\u001b[0m\u001b[0mcell\u001b[0m\u001b[1;33m(\u001b[0m\u001b[0mrow\u001b[0m \u001b[1;33m=\u001b[0m \u001b[1;36m1\u001b[0m\u001b[1;33m,\u001b[0m \u001b[0mcolumn\u001b[0m \u001b[1;33m=\u001b[0m \u001b[1;36m1\u001b[0m\u001b[1;33m)\u001b[0m\u001b[1;33m\u001b[0m\u001b[1;33m\u001b[0m\u001b[0m\n\u001b[0m",
      "\u001b[1;31mAttributeError\u001b[0m: 'NoneType' object has no attribute 'cell'"
     ]
    }
   ],
   "source": [
    "from openpyxl import load_workbook\n",
    "wb=load_workbook(filename,read_only=True)\n",
    "\n",
    "sheet_obj=wb.active\n",
    "cell_obj = sheet_obj.cell(row = 1, column = 1)"
   ]
  },
  {
   "cell_type": "code",
   "execution_count": 28,
   "id": "27990209",
   "metadata": {},
   "outputs": [
    {
     "name": "stdout",
     "output_type": "stream",
     "text": [
      "['Sheet1']\n",
      "Always check your Software in the “worst-case” to get an understanding of its real-time performance. \n"
     ]
    },
    {
     "name": "stderr",
     "output_type": "stream",
     "text": [
      "<ipython-input-28-4fd84f48de26>:4: DeprecationWarning: Call to deprecated function get_sheet_names (Use wb.sheetnames).\n",
      "  print(wb.get_sheet_names())\n",
      "<ipython-input-28-4fd84f48de26>:5: DeprecationWarning: Call to deprecated function get_sheet_by_name (Use wb[sheetname]).\n",
      "  sheet=wb.get_sheet_by_name('Sheet1')\n"
     ]
    }
   ],
   "source": [
    "from openpyxl import load_workbook\n",
    "filename=\"hugeexcelfile1.xlsx\"\n",
    "wb=load_workbook(filename,read_only=True)\n",
    "print(wb.get_sheet_names())\n",
    "sheet=wb.get_sheet_by_name('Sheet1')\n",
    "print(sheet['A4'].value)\n"
   ]
  },
  {
   "cell_type": "code",
   "execution_count": 29,
   "id": "6d079259",
   "metadata": {},
   "outputs": [
    {
     "name": "stdout",
     "output_type": "stream",
     "text": [
      "1 Sales Channel\n",
      "2 Offline\n",
      "3 Online\n",
      "4 Offline\n",
      "5 Offline\n",
      "6 Offline\n",
      "7 Online\n",
      "8 Online\n"
     ]
    }
   ],
   "source": [
    "for x in range (1,9):\n",
    "    print(x,sheet.cell(row=x,column=4).value)"
   ]
  },
  {
   "cell_type": "code",
   "execution_count": 34,
   "id": "fc42bed7",
   "metadata": {},
   "outputs": [
    {
     "name": "stdout",
     "output_type": "stream",
     "text": [
      "1 Are you looking for a sample test .xlsx or .xls  file with dummy data to test while implementing or developing software for the mobile app or Web App?.\n",
      "\n",
      "1 Country\n",
      "\n",
      "1 Item Type\n",
      "\n",
      "1 Sales Channel\n",
      "\n",
      "2 Appsloveworld allows developers to download a sample xlsx or xls file with a large dummy data for testing purposes.\n",
      "\n",
      "2 South Africa\n",
      "\n",
      "2 Fruits\n",
      "\n",
      "2 Offline\n",
      "\n",
      "3 None\n",
      "\n",
      "3 Morocco\n",
      "\n",
      "3 Clothes\n",
      "\n",
      "3 Online\n",
      "\n",
      "4 Always check your Software in the “worst-case” to get an understanding of its real-time performance. \n",
      "\n",
      "4 Papua New Guinea\n",
      "\n",
      "4 Meat\n",
      "\n",
      "4 Offline\n",
      "\n",
      "5 We have listed good quality dummy raw data for testing purposes.\n",
      "\n",
      "5 Djibouti\n",
      "\n",
      "5 Clothes\n",
      "\n",
      "5 Offline\n",
      "\n",
      "6 Just click the download button and start playing with an xlsx or xls file.\n",
      "\n",
      "6 Slovakia\n",
      "\n",
      "6 Beverages\n",
      "\n",
      "6 Offline\n",
      "\n",
      "7 Asia\n",
      "\n",
      "7 Sri Lanka\n",
      "\n",
      "7 Fruits\n",
      "\n",
      "7 Online\n",
      "\n",
      "8 Sub-Saharan Africa\n",
      "\n",
      "8 Seychelles \n",
      "\n",
      "8 Beverages\n",
      "\n",
      "8 Online\n",
      "\n"
     ]
    }
   ],
   "source": [
    "for x in range (1,9):\n",
    "    for y in range(1,5):\n",
    "        print(x,sheet.cell(row=x,column=y).value)\n",
    "        print(\"\")"
   ]
  },
  {
   "cell_type": "code",
   "execution_count": 35,
   "id": "a0a2076f",
   "metadata": {},
   "outputs": [
    {
     "name": "stdout",
     "output_type": "stream",
     "text": [
      "Are you looking for a sample test .xlsx or .xls  file with dummy data to test while implementing or developing software for the mobile app or Web App?. Country Item Type Sales Channel Order Priority Order Date Order ID Ship Date\n",
      "Appsloveworld allows developers to download a sample xlsx or xls file with a large dummy data for testing purposes. South Africa Fruits Offline M 2012-07-27 00:00:00 443368995 2012-07-28 00:00:00\n",
      "None Morocco Clothes Online M 2013-09-14 00:00:00 667593514 2013-10-19 00:00:00\n",
      "Always check your Software in the “worst-case” to get an understanding of its real-time performance.  Papua New Guinea Meat Offline M 2015-05-15 00:00:00 940995585 2015-06-04 00:00:00\n",
      "We have listed good quality dummy raw data for testing purposes. Djibouti Clothes Offline H 2017-05-17 00:00:00 880811536 2017-07-02 00:00:00\n",
      "Just click the download button and start playing with an xlsx or xls file. Slovakia Beverages Offline L 2016-10-26 00:00:00 174590194 2016-12-04 00:00:00\n",
      "Asia Sri Lanka Fruits Online L 2011-11-07 00:00:00 830192887 2011-12-18 00:00:00\n",
      "Sub-Saharan Africa Seychelles  Beverages Online M 2013-01-18 00:00:00 425793445 2013-02-16 00:00:00\n"
     ]
    }
   ],
   "source": [
    "for y in range (1,9,1):\n",
    "    print(sheet.cell(row=y,column=1).value,sheet.cell(row=y,column=2).value,\n",
    "sheet.cell(row=y,column=3).value,sheet.cell(row=y,column=4).value,\n",
    "sheet.cell(row=y,column=5).value, sheet.cell(row=y,column=6).value,\n",
    "sheet.cell(row=y,column=7).value,sheet.cell(row=y,column=8).value)"
   ]
  },
  {
   "cell_type": "code",
   "execution_count": 41,
   "id": "4821bd58",
   "metadata": {},
   "outputs": [],
   "source": [
    "import pandas as pd\n",
    "data=sheet.values\n",
    "columns=next(data)[0:]\n",
    "df2 = pd.DataFrame(data,columns=columns)"
   ]
  },
  {
   "cell_type": "code",
   "execution_count": null,
   "id": "8e881227",
   "metadata": {},
   "outputs": [],
   "source": [
    "08:56am started."
   ]
  },
  {
   "cell_type": "code",
   "execution_count": 38,
   "id": "4b13c882",
   "metadata": {},
   "outputs": [
    {
     "data": {
      "text/plain": [
       "(500001, 14)"
      ]
     },
     "execution_count": 38,
     "metadata": {},
     "output_type": "execute_result"
    }
   ],
   "source": [
    "df.shape"
   ]
  },
  {
   "cell_type": "code",
   "execution_count": 43,
   "id": "d49a04b3",
   "metadata": {},
   "outputs": [
    {
     "name": "stdout",
     "output_type": "stream",
     "text": [
      "  Are you looking for a sample test .xlsx or .xls  file with dummy data to test while implementing or developing software for the mobile app or Web App?.  \\\n",
      "0  Appsloveworld allows developers to download a ...                                                                                                        \n",
      "1                                               None                                                                                                        \n",
      "2  Always check your Software in the “worst-case”...                                                                                                        \n",
      "3  We have listed good quality dummy raw data for...                                                                                                        \n",
      "4  Just click the download button and start playi...                                                                                                        \n",
      "\n",
      "            Country  Item Type Sales Channel Order Priority Order Date  \\\n",
      "0      South Africa     Fruits       Offline              M 2012-07-27   \n",
      "1           Morocco    Clothes        Online              M 2013-09-14   \n",
      "2  Papua New Guinea       Meat       Offline              M 2015-05-15   \n",
      "3          Djibouti    Clothes       Offline              H 2017-05-17   \n",
      "4          Slovakia  Beverages       Offline              L 2016-10-26   \n",
      "\n",
      "    Order ID  Ship Date  Units Sold  Unit Price Unit Cost  Total Revenue  \\\n",
      "0  443368995 2012-07-28        1593        9.33      6.92       14862.69   \n",
      "1  667593514 2013-10-19        4611      109.28     35.84      503890.08   \n",
      "2  940995585 2015-06-04         360      421.89    364.69      151880.40   \n",
      "3  880811536 2017-07-02         562      109.28     35.84       61415.36   \n",
      "4  174590194 2016-12-04        3973       47.45     31.79      188518.85   \n",
      "\n",
      "   Total Cost  Total Profit  \n",
      "0    11023.56       3839.13  \n",
      "1   165258.24     338631.84  \n",
      "2   131288.40      20592.00  \n",
      "3    20142.08      41273.28  \n",
      "4   126301.67      62217.18  \n"
     ]
    }
   ],
   "source": [
    "print(df2.head())"
   ]
  },
  {
   "cell_type": "code",
   "execution_count": 46,
   "id": "d0172af8",
   "metadata": {},
   "outputs": [
    {
     "name": "stdout",
     "output_type": "stream",
     "text": [
      "       Are you looking for a sample test .xlsx or .xls  file with dummy data to test while implementing or developing software for the mobile app or Web App?.  \\\n",
      "499995                                               Asia                                                                                                        \n",
      "499996                              Australia and Oceania                                                                                                        \n",
      "499997                                             Europe                                                                                                        \n",
      "499998                                               Asia                                                                                                        \n",
      "499999                                             Europe                                                                                                        \n",
      "\n",
      "            Country        Item Type Sales Channel Order Priority Order Date  \\\n",
      "499995      Myanmar           Fruits       Offline              L 2015-01-16   \n",
      "499996  New Zealand  Office Supplies        Online              H 2011-01-22   \n",
      "499997    Lithuania           Snacks        Online              C 2017-01-25   \n",
      "499998     Malaysia        Beverages       Offline              H 2016-03-13   \n",
      "499999     Slovakia        Household        Online              H 2015-05-13   \n",
      "\n",
      "         Order ID  Ship Date  Units Sold  Unit Price Unit Cost  Total Revenue  \\\n",
      "499995  134026181 2015-02-18         180        9.33      6.92        1679.40   \n",
      "499996  987753570 2011-02-01        7086      651.21    524.96     4614474.06   \n",
      "499997  766976869 2017-01-26        4354      152.58     97.44      664333.32   \n",
      "499998  537369906 2016-03-18        8552       47.45     31.79      405792.40   \n",
      "499999  984919011 2015-06-12        8277      668.27    502.54     5531270.79   \n",
      "\n",
      "        Total Cost  Total Profit  \n",
      "499995     1245.60        433.80  \n",
      "499996  3719866.56     894607.50  \n",
      "499997   424253.76     240079.56  \n",
      "499998   271868.08     133924.32  \n",
      "499999  4159523.58    1371747.21  \n"
     ]
    }
   ],
   "source": [
    "print(df2.tail())"
   ]
  },
  {
   "cell_type": "code",
   "execution_count": 50,
   "id": "316df4f9",
   "metadata": {},
   "outputs": [
    {
     "data": {
      "text/plain": [
       "Index(['Are you looking for a sample test .xlsx or .xls  file with dummy data to test while implementing or developing software for the mobile app or Web App?.',\n",
       "       'Country', 'Item Type', 'Sales Channel', 'Order Priority', 'Order Date',\n",
       "       'Order ID', 'Ship Date', 'Units Sold', 'Unit Price', 'Unit Cost',\n",
       "       'Total Revenue', 'Total Cost', 'Total Profit'],\n",
       "      dtype='object')"
      ]
     },
     "execution_count": 50,
     "metadata": {},
     "output_type": "execute_result"
    }
   ],
   "source": [
    "df2.columns"
   ]
  },
  {
   "cell_type": "code",
   "execution_count": 54,
   "id": "0f4291fd",
   "metadata": {},
   "outputs": [
    {
     "name": "stdout",
     "output_type": "stream",
     "text": [
      "['Sheet1']\n"
     ]
    },
    {
     "name": "stderr",
     "output_type": "stream",
     "text": [
      "<ipython-input-54-c13e904befa9>:4: DeprecationWarning: Call to deprecated function get_sheet_names (Use wb.sheetnames).\n",
      "  print(wb.get_sheet_names())\n",
      "<ipython-input-54-c13e904befa9>:5: DeprecationWarning: Call to deprecated function get_sheet_by_name (Use wb[sheetname]).\n",
      "  sheet=wb.get_sheet_by_name('Sheet1')\n"
     ]
    }
   ],
   "source": [
    "from openpyxl import load_workbook\n",
    "filename=\"hugeexcelfile1.xlsx\"\n",
    "wb=load_workbook(filename,read_only=True)\n",
    "print(wb.get_sheet_names())\n",
    "sheet=wb.get_sheet_by_name('Sheet1')\n",
    "import pandas as pd\n",
    "data=sheet.values\n",
    "columns=next(data)[0:]\n"
   ]
  },
  {
   "cell_type": "code",
   "execution_count": 55,
   "id": "cf35c6f0",
   "metadata": {},
   "outputs": [],
   "source": [
    "df2 = pd.DataFrame(data,columns=columns)"
   ]
  },
  {
   "cell_type": "code",
   "execution_count": 56,
   "id": "bb323005",
   "metadata": {},
   "outputs": [
    {
     "data": {
      "text/plain": [
       "Index(['Are you looking for a sample test .xlsx or .xls  file with dummy data to test while implementing or developing software for the mobile app or Web App?.',\n",
       "       'Country', 'Item Type', 'Sales Channel', 'Order Priority', 'Order Date',\n",
       "       'Order ID', 'Ship Date', 'Units Sold', 'Unit Price', 'Unit Cost',\n",
       "       'Total Revenue', 'Total Cost', 'Total Profit'],\n",
       "      dtype='object')"
      ]
     },
     "execution_count": 56,
     "metadata": {},
     "output_type": "execute_result"
    }
   ],
   "source": [
    "df2.columns"
   ]
  },
  {
   "cell_type": "code",
   "execution_count": 57,
   "id": "dc738d3f",
   "metadata": {},
   "outputs": [
    {
     "data": {
      "text/plain": [
       "(500000, 14)"
      ]
     },
     "execution_count": 57,
     "metadata": {},
     "output_type": "execute_result"
    }
   ],
   "source": [
    "df2.shape"
   ]
  },
  {
   "cell_type": "code",
   "execution_count": 53,
   "id": "9ee2b275",
   "metadata": {},
   "outputs": [
    {
     "ename": "NameError",
     "evalue": "name 'DataFrame' is not defined",
     "output_type": "error",
     "traceback": [
      "\u001b[1;31m---------------------------------------------------------------------------\u001b[0m",
      "\u001b[1;31mNameError\u001b[0m                                 Traceback (most recent call last)",
      "\u001b[1;32m<ipython-input-53-b53b9db2656c>\u001b[0m in \u001b[0;36m<module>\u001b[1;34m\u001b[0m\n\u001b[0;32m      5\u001b[0m \u001b[0midx\u001b[0m \u001b[1;33m=\u001b[0m \u001b[1;33m[\u001b[0m\u001b[0mr\u001b[0m\u001b[1;33m[\u001b[0m\u001b[1;36m0\u001b[0m\u001b[1;33m]\u001b[0m \u001b[1;32mfor\u001b[0m \u001b[0mr\u001b[0m \u001b[1;32min\u001b[0m \u001b[0mdata\u001b[0m\u001b[1;33m]\u001b[0m\u001b[1;33m\u001b[0m\u001b[1;33m\u001b[0m\u001b[0m\n\u001b[0;32m      6\u001b[0m \u001b[0mdata\u001b[0m \u001b[1;33m=\u001b[0m \u001b[1;33m(\u001b[0m\u001b[0mislice\u001b[0m\u001b[1;33m(\u001b[0m\u001b[0mr\u001b[0m\u001b[1;33m,\u001b[0m \u001b[1;36m1\u001b[0m\u001b[1;33m,\u001b[0m \u001b[1;32mNone\u001b[0m\u001b[1;33m)\u001b[0m \u001b[1;32mfor\u001b[0m \u001b[0mr\u001b[0m \u001b[1;32min\u001b[0m \u001b[0mdata\u001b[0m\u001b[1;33m)\u001b[0m\u001b[1;33m\u001b[0m\u001b[1;33m\u001b[0m\u001b[0m\n\u001b[1;32m----> 7\u001b[1;33m \u001b[0mdf\u001b[0m \u001b[1;33m=\u001b[0m \u001b[0mDataFrame\u001b[0m\u001b[1;33m(\u001b[0m\u001b[0mdata\u001b[0m\u001b[1;33m,\u001b[0m \u001b[0mindex\u001b[0m\u001b[1;33m=\u001b[0m\u001b[0midx\u001b[0m\u001b[1;33m,\u001b[0m \u001b[0mcolumns\u001b[0m\u001b[1;33m=\u001b[0m\u001b[0mcols\u001b[0m\u001b[1;33m)\u001b[0m\u001b[1;33m\u001b[0m\u001b[1;33m\u001b[0m\u001b[0m\n\u001b[0m",
      "\u001b[1;31mNameError\u001b[0m: name 'DataFrame' is not defined"
     ]
    }
   ],
   "source": [
    "from itertools import islice\n",
    "data = sheet.values\n",
    "cols = next(data)[1:]\n",
    "data = list(data)\n",
    "idx = [r[0] for r in data]\n",
    "data = (islice(r, 1, None) for r in data)\n",
    "df = DataFrame(data, index=idx, columns=cols)"
   ]
  },
  {
   "cell_type": "code",
   "execution_count": null,
   "id": "5a342825",
   "metadata": {},
   "outputs": [],
   "source": [
    "df.columns"
   ]
  },
  {
   "cell_type": "code",
   "execution_count": null,
   "id": "8f9d9c40",
   "metadata": {},
   "outputs": [],
   "source": []
  }
 ],
 "metadata": {
  "kernelspec": {
   "display_name": "Python 3",
   "language": "python",
   "name": "python3"
  },
  "language_info": {
   "codemirror_mode": {
    "name": "ipython",
    "version": 3
   },
   "file_extension": ".py",
   "mimetype": "text/x-python",
   "name": "python",
   "nbconvert_exporter": "python",
   "pygments_lexer": "ipython3",
   "version": "3.9.5"
  }
 },
 "nbformat": 4,
 "nbformat_minor": 5
}
